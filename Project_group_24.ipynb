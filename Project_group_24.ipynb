{
 "cells": [
  {
   "cell_type": "markdown",
   "metadata": {},
   "source": [
    "# Project Group - 24\n",
    "\n",
    "Members: Yannemieke van Eijk, Pauline Hennink, Pauline Slieker, Marita van 't Klooster\n",
    "\n",
    "Student numbers: 4920279 - 4699718 - 4712617 - 5848210"
   ]
  },
  {
   "cell_type": "markdown",
   "metadata": {},
   "source": [
    "# Research Objective\n",
    "\n",
    "*Requires data modeling and quantitative research in Transport, Infrastructure & Logistics*"
   ]
  },
  {
   "cell_type": "markdown",
   "metadata": {},
   "source": [
    "In the assignment, we would like to investigate the influence of COVID-19 on the CO₂ emission by transportation on the Dutch territory. Possible results could be that the emission of CO₂ was lower, as people stayed more at home. Another possibility is that people were afraid to travel together with others and used on average more vehicles per person which results in higher CO₂ emissions. We have found a dataset on emissions ranging from 1990 to 2021 which - among others - shows the emission caused by different modalities of transport. We are planning to first explore the data and then focussing on finding answers to our questions.\n",
    "\n",
    "Our main question is: \n",
    "- How does COVID-19 influence the CO₂ emissions by transportation on Dutch territory?\n",
    "\n",
    "The subquestions we would like to investigate in order to find an answer to the main question are:\n",
    "- How does COVID-19 influence the CO₂ emissions by road transportation on Dutch territory?\n",
    "- How does COVID-19 influence the CO₂ emissions by rail transportation on Dutch territory?\n",
    "- How does COVID-19 influence the CO₂ emissions by aviation on Dutch territory?\n",
    "- How does COVID-19 influence the CO₂ emissions by inland shipping on Dutch territory?\n",
    "- How does COVID-19 influence the CO₂ emissions by inland seagoing shipping on Dutch territory?\n",
    "- How do the CO₂ emissions by road transportation, rail transportation, aviation, inland shipping, and inland seagoing shipping on Dutch territory relate to each other?\n",
    "\n",
    "The emissions in the dataset are measured in or above the Dutch territory on the continental part of the Netherlands (i.e., not including the Carrebean part of the Neterlands). The causes of emission include combustion and evaporation of fuels, traction, wear, and friction. It has to be mentioned that the data of 2021 is still provisional. The final data will be published in February 2023, so there is no possibility in the scope of this project to include the final data of 2021."
   ]
  },
  {
   "cell_type": "markdown",
   "metadata": {},
   "source": [
    "# Contribution Statement\n",
    "\n",
    "*Be specific. Some of the tasks can be coding (expect everyone to do this), background research, conceptualisation, visualisation, data analysis, data modelling*"
   ]
  },
  {
   "cell_type": "markdown",
   "metadata": {},
   "source": [
    "**Yannemieke van Eijk**:\n",
    "- Brainstorming, looking for dataset, and defining research question\n",
    "\n",
    "**Pauline Hennink**:\n",
    "- Brainstorming, looking for dataset, and defining research question\n",
    "- Having meeting with teacher on October 7th to ask questions about research question\n",
    "\n",
    "**Pauline Slieker**:\n",
    "- Brainstorming, looking for dataset, and defining research question\n",
    "\n",
    "**Marita van 't Klooster**: \n",
    "- Brainstorming, looking for dataset, and defining research question\n",
    "- Having meeting with teacher on October 7th to ask questions about research question\n",
    "- Improve research questions and its explanation using the feedback of the meeting"
   ]
  },
  {
   "cell_type": "markdown",
   "metadata": {},
   "source": [
    "# Data Used"
   ]
  },
  {
   "cell_type": "markdown",
   "metadata": {},
   "source": [
    "https://opendata.cbs.nl/statline/#/CBS/en/dataset/84735ENG/table?ts=1664962419807"
   ]
  },
  {
   "cell_type": "markdown",
   "metadata": {},
   "source": [
    "# Data Pipeline"
   ]
  },
  {
   "cell_type": "markdown",
   "metadata": {},
   "source": []
  }
 ],
 "metadata": {
  "kernelspec": {
   "display_name": "Python 3 (ipykernel)",
   "language": "python",
   "name": "python3"
  },
  "language_info": {
   "codemirror_mode": {
    "name": "ipython",
    "version": 3
   },
   "file_extension": ".py",
   "mimetype": "text/x-python",
   "name": "python",
   "nbconvert_exporter": "python",
   "pygments_lexer": "ipython3",
   "version": "3.9.12"
  },
  "vscode": {
   "interpreter": {
    "hash": "31f2aee4e71d21fbe5cf8b01ff0e069b9275f58929596ceb00d14d90e3e16cd6"
   }
  }
 },
 "nbformat": 4,
 "nbformat_minor": 2
}
